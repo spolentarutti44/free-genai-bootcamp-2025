{
 "cells": [
  {
   "cell_type": "markdown",
   "id": "6c4ef93a",
   "metadata": {},
   "source": [
    "# Hand Gesture Capture with Pinecone\n",
    "This notebook captures hand gestures using a webcam and saves them to a Pinecone vector store."
   ]
  },
  {
   "cell_type": "code",
   "execution_count": null,
   "id": "04e126d7",
   "metadata": {},
   "outputs": [],
   "source": [
    "import cv2\n",
    "import mediapipe as mp\n",
    "import numpy as np\n",
    "from dotenv import load_dotenv\n",
    "import os\n",
    "from pinecone import Pinecone, ServerlessSpec\n",
    "import torch\n",
    "from datetime import datetime"
   ]
  },
  {
   "cell_type": "code",
   "execution_count": null,
   "id": "6a36995a",
   "metadata": {},
   "outputs": [],
   "source": [
    "# Load environment variables\n",
    "load_dotenv()"
   ]
  },
  {
   "cell_type": "code",
   "execution_count": null,
   "id": "28aa2404",
   "metadata": {},
   "outputs": [],
   "source": [
    "# Initialize Pinecone\n",
    "api_key = os.getenv('PINECONE_API_KEY')\n",
    "pc = Pinecone(api_key=api_key)"
   ]
  },
  {
   "cell_type": "code",
   "execution_count": null,
   "id": "843b6b7b",
   "metadata": {},
   "outputs": [],
   "source": [
    "# Create or connect to an index\n",
    "index_name = 'hand-gestures'\n",
    "existing_indexes = pc.list_indexes()\n",
    "print(f\"Existing indexes (before check): {existing_indexes}\")  # Debugging line\n",
    "\n",
    "# Ensure existing_indexes is a list of index names\n",
    "existing_index_names = [index['name'] for index in existing_indexes]\n",
    "print(f\"Extracted index names: {existing_index_names}\")  # Debugging line\n",
    "\n",
    "if index_name not in existing_index_names:\n",
    "    print(f\"Index '{index_name}' NOT found in existing indexes. Proceeding to create...\")  # Debugging line\n",
    "    pc.create_index(\n",
    "        name=index_name,\n",
    "        dimension=384,  # Adjust dimension based on your embedding model\n",
    "        metric='cosine',\n",
    "        spec=ServerlessSpec(cloud='aws', region='us-east-1')  # Adjust region as needed\n",
    "    )\n",
    "    print(f\"Index '{index_name}' created.\")\n",
    "else:\n",
    "    print(f\"Index '{index_name}' ALREADY EXISTS. Connecting to the existing index.\")  # Debugging line\n",
    "\n",
    "# Get index\n",
    "index = pc.Index(index_name)"
   ]
  },
  {
   "cell_type": "code",
   "execution_count": null,
   "id": "8d717b47",
   "metadata": {},
   "outputs": [],
   "source": [
    "class HandGestureCapture:\n",
    "    def __init__(self):\n",
    "        self.mp_hands = mp.solutions.hands\n",
    "        self.hands = self.mp_hands.Hands(\n",
    "            static_image_mode=False,\n",
    "            max_num_hands=1,\n",
    "            min_detection_confidence=0.7,\n",
    "            min_tracking_confidence=0.7\n",
    "        )\n",
    "        self.mp_draw = mp.solutions.drawing_utils\n",
    "\n",
    "    def process_frame(self, frame):\n",
    "        # Convert BGR to RGB\n",
    "        frame_rgb = cv2.cvtColor(frame, cv2.COLOR_BGR2RGB)\n",
    "        results = self.hands.process(frame_rgb)\n",
    "        \n",
    "        landmarks_array = None\n",
    "        if results.multi_hand_landmarks:\n",
    "            hand_landmarks = results.multi_hand_landmarks[0]  # Get first hand\n",
    "            \n",
    "            # Draw landmarks\n",
    "            self.mp_draw.draw_landmarks(\n",
    "                frame, \n",
    "                hand_landmarks, \n",
    "                self.mp_hands.HAND_CONNECTIONS\n",
    "            )\n",
    "            \n",
    "            # Convert landmarks to array\n",
    "            landmarks_array = np.array([[lm.x, lm.y, lm.z] for lm in hand_landmarks.landmark]).flatten()\n",
    "            \n",
    "        return frame, landmarks_array\n",
    "\n",
    "    def save_to_pinecone(self, landmarks, label=None):\n",
    "        if landmarks is not None:\n",
    "            # Create unique ID for the gesture\n",
    "            gesture_id = f\"gesture_{datetime.now().strftime('%Y%m%d_%H%M%S')}\"\n",
    "            \n",
    "            # Create metadata\n",
    "            metadata = {\n",
    "                'timestamp': datetime.now().isoformat(),\n",
    "                'label': label if label else 'unlabeled'\n",
    "            }\n",
    "            \n",
    "            # Save to Pinecone\n",
    "            index.upsert(vectors=[(gesture_id, landmarks.tolist(), metadata)])\n",
    "            print(f\"Saved gesture with ID: {gesture_id}\")\n",
    "            return gesture_id\n",
    "        return None"
   ]
  },
  {
   "cell_type": "code",
   "execution_count": null,
   "id": "a14da3a4",
   "metadata": {},
   "outputs": [],
   "source": [
    "def main():\n",
    "    capture = HandGestureCapture()\n",
    "    cap = cv2.VideoCapture(0)\n",
    "    \n",
    "    while True:\n",
    "        ret, frame = cap.read()\n",
    "        if not ret:\n",
    "            break\n",
    "            \n",
    "        # Process frame\n",
    "        frame, landmarks = capture.process_frame(frame)\n",
    "        \n",
    "        # Display frame\n",
    "        cv2.imshow('Hand Gesture Capture', frame)\n",
    "        \n",
    "        key = cv2.waitKey(1)\n",
    "        if key & 0xFF == ord('q'):\n",
    "            break\n",
    "        elif key & 0xFF == ord('s') and landmarks is not None:\n",
    "            # Save gesture when 's' is pressed\n",
    "            gesture_id = capture.save_to_pinecone(landmarks)\n",
    "            if gesture_id:\n",
    "                print(f\"Saved gesture with ID: {gesture_id}\")\n",
    "        \n",
    "    cap.release()\n",
    "    cv2.destroyAllWindows()"
   ]
  },
  {
   "cell_type": "markdown",
   "id": "3fd70b9e",
   "metadata": {},
   "source": [
    "Run the main function to start capturing hand gestures."
   ]
  },
  {
   "cell_type": "code",
   "execution_count": null,
   "id": "d9446515",
   "metadata": {},
   "outputs": [],
   "source": [
    "if __name__ == \"__main__\":\n",
    "    main()"
   ]
  }
 ],
 "metadata": {
  "kernelspec": {
   "display_name": "Python 3",
   "language": "python",
   "name": "python3"
  },
  "language_info": {
   "codemirror_mode": {
    "name": "ipython",
    "version": 3
   },
   "file_extension": ".py",
   "mimetype": "text/x-python",
   "name": "python",
   "nbconvert_exporter": "python",
   "pygments_lexer": "ipython3",
   "version": "3.8.5"
  }
 },
 "nbformat": 4,
 "nbformat_minor": 5
}
